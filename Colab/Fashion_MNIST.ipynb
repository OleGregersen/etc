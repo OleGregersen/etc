{
  "nbformat": 4,
  "nbformat_minor": 0,
  "metadata": {
    "colab": {
      "name": "Fashion MNIST.ipynb",
      "provenance": [],
      "collapsed_sections": []
    },
    "kernelspec": {
      "name": "python3",
      "display_name": "Python 3"
    },
    "language_info": {
      "name": "python"
    }
  },
  "cells": [
    {
      "cell_type": "markdown",
      "metadata": {
        "id": "jprulxpvuyt-"
      },
      "source": [
        ""
      ]
    },
    {
      "cell_type": "code",
      "metadata": {
        "id": "0YwFa-vbknun"
      },
      "source": [
        "# Import libraries\n",
        "\n",
        "import numpy as np\n",
        "import pandas as pd\n",
        "import matplotlib.pyplot as plt\n",
        "%matplotlib inline\n",
        "import seaborn as sns\n",
        "import tensorflow as tf\n",
        "from tensorflow import keras"
      ],
      "execution_count": 4,
      "outputs": []
    },
    {
      "cell_type": "code",
      "metadata": {
        "id": "KkCURbQaktkp",
        "colab": {
          "base_uri": "https://localhost:8080/"
        },
        "outputId": "e06ba240-7d78-4938-e23c-4e72a3903fc8"
      },
      "source": [
        "# Import Fashion MNIST\n",
        "\n",
        "fashion_mnist = tf.keras.datasets.fashion_mnist\n",
        "(train_images, train_labels), (test_images, test_labels) \\\n",
        "= fashion_mnist.load_data()\n",
        "\n",
        "class_names = ['T-shirt/top', 'Trouser',\n",
        "'Pullover', 'Dress', 'Coat',\n",
        "'Sandal', 'Shirt', 'Sneaker', 'Bag', 'Ankle boot']\n",
        "\n",
        "train_images = train_images / 255.0\n",
        "test_images = test_images / 255.0"
      ],
      "execution_count": 5,
      "outputs": [
        {
          "output_type": "stream",
          "text": [
            "Downloading data from https://storage.googleapis.com/tensorflow/tf-keras-datasets/train-labels-idx1-ubyte.gz\n",
            "32768/29515 [=================================] - 0s 0us/step\n",
            "Downloading data from https://storage.googleapis.com/tensorflow/tf-keras-datasets/train-images-idx3-ubyte.gz\n",
            "26427392/26421880 [==============================] - 0s 0us/step\n",
            "Downloading data from https://storage.googleapis.com/tensorflow/tf-keras-datasets/t10k-labels-idx1-ubyte.gz\n",
            "8192/5148 [===============================================] - 0s 0us/step\n",
            "Downloading data from https://storage.googleapis.com/tensorflow/tf-keras-datasets/t10k-images-idx3-ubyte.gz\n",
            "4423680/4422102 [==============================] - 0s 0us/step\n"
          ],
          "name": "stdout"
        }
      ]
    },
    {
      "cell_type": "code",
      "metadata": {
        "id": "5tjQNmDdk9Qj"
      },
      "source": [
        "# Defining model\n",
        "\n",
        "model = tf.keras.Sequential()\n",
        "model.add(tf.keras.layers.Flatten(input_shape=(28,28)))\n",
        "model.add(tf.keras.layers.Dense(128, activation='relu' ))\n",
        "model.add(tf.keras.layers.Dense(10, activation='softmax' ))"
      ],
      "execution_count": 6,
      "outputs": []
    },
    {
      "cell_type": "code",
      "metadata": {
        "id": "5jfDb3O7k_RS"
      },
      "source": [
        "# Compiling model\n",
        "\n",
        "model.compile(optimizer='adam',\n",
        "loss='sparse_categorical_crossentropy',\n",
        "metrics=['accuracy'])"
      ],
      "execution_count": 9,
      "outputs": []
    },
    {
      "cell_type": "code",
      "metadata": {
        "id": "vAMjC53glDID",
        "colab": {
          "base_uri": "https://localhost:8080/"
        },
        "outputId": "1173a4bc-0a48-4265-fbdb-464cda0aaee2"
      },
      "source": [
        "# Fitting and training model\n",
        "\n",
        "model.fit(train_images, train_labels, epochs=5)"
      ],
      "execution_count": 10,
      "outputs": [
        {
          "output_type": "stream",
          "text": [
            "Epoch 1/5\n",
            "1875/1875 [==============================] - 5s 2ms/step - loss: 0.4974 - accuracy: 0.8262\n",
            "Epoch 2/5\n",
            "1875/1875 [==============================] - 4s 2ms/step - loss: 0.3782 - accuracy: 0.8649\n",
            "Epoch 3/5\n",
            "1875/1875 [==============================] - 5s 2ms/step - loss: 0.3360 - accuracy: 0.8765\n",
            "Epoch 4/5\n",
            "1875/1875 [==============================] - 4s 2ms/step - loss: 0.3135 - accuracy: 0.8852\n",
            "Epoch 5/5\n",
            "1875/1875 [==============================] - 4s 2ms/step - loss: 0.2942 - accuracy: 0.8909\n"
          ],
          "name": "stdout"
        },
        {
          "output_type": "execute_result",
          "data": {
            "text/plain": [
              "<tensorflow.python.keras.callbacks.History at 0x7f370c558f50>"
            ]
          },
          "metadata": {
            "tags": []
          },
          "execution_count": 10
        }
      ]
    },
    {
      "cell_type": "code",
      "metadata": {
        "id": "lE_hgQ7ElGmV",
        "colab": {
          "base_uri": "https://localhost:8080/"
        },
        "outputId": "2f915702-c3ef-49d7-bff9-6584fd5f3c87"
      },
      "source": [
        "# Evaluating model\n",
        "# test with 10,000 images\n",
        "\n",
        "test_loss, test_acc = model.evaluate(test_images, test_labels)\n",
        "print('10,000 image Test accuracy:', test_acc)"
      ],
      "execution_count": 11,
      "outputs": [
        {
          "output_type": "stream",
          "text": [
            "313/313 [==============================] - 2s 4ms/step - loss: 0.3509 - accuracy: 0.8741\n",
            "10,000 image Test accuracy: 0.8741000294685364\n"
          ],
          "name": "stdout"
        }
      ]
    },
    {
      "cell_type": "code",
      "metadata": {
        "colab": {
          "base_uri": "https://localhost:8080/"
        },
        "id": "OEGoxPPIsvgD",
        "outputId": "915063d2-ff03-48e1-a410-45205670856f"
      },
      "source": [
        "# Running a test on a single image\n",
        "\n",
        "img = test_images[15]\n",
        "img = (np.expand_dims(img,0))\n",
        "singlePrediction = model.predict(img,steps=1)\n",
        "NumberElement = singlePrediction.argmax()\n",
        "Element = np.amax(singlePrediction)\n",
        "print(\"Prediction Output:\")\n",
        "print(\"Our Network has concluded that the image number '15' is a \"\n",
        "+class_names[NumberElement])\n",
        "print(str(int(Element*100)) + \"% Confidence Level\")"
      ],
      "execution_count": 14,
      "outputs": [
        {
          "output_type": "stream",
          "text": [
            "Prediction Output\n",
            "Our Network has concluded that the image number '15' is a Trouser\n",
            "99% Confidence Level\n"
          ],
          "name": "stdout"
        }
      ]
    }
  ]
}